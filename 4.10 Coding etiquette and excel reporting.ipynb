{
 "cells": [
  {
   "cell_type": "markdown",
   "id": "0e6be8c0",
   "metadata": {},
   "source": [
    "# 1. Import libraries and data"
   ]
  },
  {
   "cell_type": "code",
   "execution_count": 1,
   "id": "4642a03b",
   "metadata": {},
   "outputs": [],
   "source": [
    "import pandas as pd\n",
    "import numpy as np\n",
    "import os\n",
    "import matplotlib.pyplot as plt\n",
    "import seaborn as sns\n",
    "import scipy"
   ]
  },
  {
   "cell_type": "code",
   "execution_count": 2,
   "id": "93ea13a2",
   "metadata": {},
   "outputs": [],
   "source": [
    "#Python shortcut for importing files, create string & assign to variable \n",
    "path = r'/Users/Chloe/Documents/2. CareerFoundry/2. Data Immersion pt 1/Achievement 4/07-2022 Instacart Basket Analysis'"
   ]
  },
  {
   "cell_type": "code",
   "execution_count": 3,
   "id": "2c5afdfe",
   "metadata": {},
   "outputs": [
    {
     "data": {
      "text/plain": [
       "'/Users/Chloe/Documents/2. CareerFoundry/2. Data Immersion pt 1/Achievement 4/07-2022 Instacart Basket Analysis'"
      ]
     },
     "execution_count": 3,
     "metadata": {},
     "output_type": "execute_result"
    }
   ],
   "source": [
    "path"
   ]
  },
  {
   "cell_type": "code",
   "execution_count": 4,
   "id": "e5d2a0ab",
   "metadata": {},
   "outputs": [],
   "source": [
    "#import the latest file using the os.path.join() function\n",
    "df = pd.read_pickle(os.path.join(path, '02 Data', 'Prepared Data', 'final_instacart_data.pkl'))"
   ]
  },
  {
   "cell_type": "markdown",
   "id": "5a8e9782",
   "metadata": {},
   "source": [
    "# 2. Check dataframe"
   ]
  },
  {
   "cell_type": "code",
   "execution_count": 5,
   "id": "010bf942",
   "metadata": {},
   "outputs": [
    {
     "data": {
      "text/plain": [
       "(32404859, 34)"
      ]
     },
     "execution_count": 5,
     "metadata": {},
     "output_type": "execute_result"
    }
   ],
   "source": [
    "df.shape"
   ]
  },
  {
   "cell_type": "code",
   "execution_count": 6,
   "id": "4a56ee93",
   "metadata": {},
   "outputs": [
    {
     "data": {
      "text/html": [
       "<div>\n",
       "<style scoped>\n",
       "    .dataframe tbody tr th:only-of-type {\n",
       "        vertical-align: middle;\n",
       "    }\n",
       "\n",
       "    .dataframe tbody tr th {\n",
       "        vertical-align: top;\n",
       "    }\n",
       "\n",
       "    .dataframe thead th {\n",
       "        text-align: right;\n",
       "    }\n",
       "</style>\n",
       "<table border=\"1\" class=\"dataframe\">\n",
       "  <thead>\n",
       "    <tr style=\"text-align: right;\">\n",
       "      <th></th>\n",
       "      <th>order_id</th>\n",
       "      <th>user_id</th>\n",
       "      <th>order_number</th>\n",
       "      <th>orders_day_of_week</th>\n",
       "      <th>hour_of_day_ordered</th>\n",
       "      <th>days_since_prior_order</th>\n",
       "      <th>new_customer</th>\n",
       "      <th>product_id</th>\n",
       "      <th>add_to_cart_order</th>\n",
       "      <th>reordered</th>\n",
       "      <th>...</th>\n",
       "      <th>frequency_flag</th>\n",
       "      <th>first_name</th>\n",
       "      <th>surname</th>\n",
       "      <th>gender</th>\n",
       "      <th>state</th>\n",
       "      <th>age</th>\n",
       "      <th>date_joined</th>\n",
       "      <th>#_of_dependants</th>\n",
       "      <th>marital_status</th>\n",
       "      <th>income</th>\n",
       "    </tr>\n",
       "  </thead>\n",
       "  <tbody>\n",
       "    <tr>\n",
       "      <th>0</th>\n",
       "      <td>2539329</td>\n",
       "      <td>1</td>\n",
       "      <td>1</td>\n",
       "      <td>2</td>\n",
       "      <td>8</td>\n",
       "      <td>NaN</td>\n",
       "      <td>True</td>\n",
       "      <td>196</td>\n",
       "      <td>1</td>\n",
       "      <td>0</td>\n",
       "      <td>...</td>\n",
       "      <td>Non-frequent customer</td>\n",
       "      <td>Linda</td>\n",
       "      <td>Nguyen</td>\n",
       "      <td>Female</td>\n",
       "      <td>Alabama</td>\n",
       "      <td>31</td>\n",
       "      <td>2/17/2019</td>\n",
       "      <td>3</td>\n",
       "      <td>married</td>\n",
       "      <td>40423</td>\n",
       "    </tr>\n",
       "    <tr>\n",
       "      <th>1</th>\n",
       "      <td>2398795</td>\n",
       "      <td>1</td>\n",
       "      <td>2</td>\n",
       "      <td>3</td>\n",
       "      <td>7</td>\n",
       "      <td>15.0</td>\n",
       "      <td>False</td>\n",
       "      <td>196</td>\n",
       "      <td>1</td>\n",
       "      <td>1</td>\n",
       "      <td>...</td>\n",
       "      <td>Non-frequent customer</td>\n",
       "      <td>Linda</td>\n",
       "      <td>Nguyen</td>\n",
       "      <td>Female</td>\n",
       "      <td>Alabama</td>\n",
       "      <td>31</td>\n",
       "      <td>2/17/2019</td>\n",
       "      <td>3</td>\n",
       "      <td>married</td>\n",
       "      <td>40423</td>\n",
       "    </tr>\n",
       "    <tr>\n",
       "      <th>2</th>\n",
       "      <td>473747</td>\n",
       "      <td>1</td>\n",
       "      <td>3</td>\n",
       "      <td>3</td>\n",
       "      <td>12</td>\n",
       "      <td>21.0</td>\n",
       "      <td>False</td>\n",
       "      <td>196</td>\n",
       "      <td>1</td>\n",
       "      <td>1</td>\n",
       "      <td>...</td>\n",
       "      <td>Non-frequent customer</td>\n",
       "      <td>Linda</td>\n",
       "      <td>Nguyen</td>\n",
       "      <td>Female</td>\n",
       "      <td>Alabama</td>\n",
       "      <td>31</td>\n",
       "      <td>2/17/2019</td>\n",
       "      <td>3</td>\n",
       "      <td>married</td>\n",
       "      <td>40423</td>\n",
       "    </tr>\n",
       "    <tr>\n",
       "      <th>3</th>\n",
       "      <td>2254736</td>\n",
       "      <td>1</td>\n",
       "      <td>4</td>\n",
       "      <td>4</td>\n",
       "      <td>7</td>\n",
       "      <td>29.0</td>\n",
       "      <td>False</td>\n",
       "      <td>196</td>\n",
       "      <td>1</td>\n",
       "      <td>1</td>\n",
       "      <td>...</td>\n",
       "      <td>Non-frequent customer</td>\n",
       "      <td>Linda</td>\n",
       "      <td>Nguyen</td>\n",
       "      <td>Female</td>\n",
       "      <td>Alabama</td>\n",
       "      <td>31</td>\n",
       "      <td>2/17/2019</td>\n",
       "      <td>3</td>\n",
       "      <td>married</td>\n",
       "      <td>40423</td>\n",
       "    </tr>\n",
       "    <tr>\n",
       "      <th>4</th>\n",
       "      <td>431534</td>\n",
       "      <td>1</td>\n",
       "      <td>5</td>\n",
       "      <td>4</td>\n",
       "      <td>15</td>\n",
       "      <td>28.0</td>\n",
       "      <td>False</td>\n",
       "      <td>196</td>\n",
       "      <td>1</td>\n",
       "      <td>1</td>\n",
       "      <td>...</td>\n",
       "      <td>Non-frequent customer</td>\n",
       "      <td>Linda</td>\n",
       "      <td>Nguyen</td>\n",
       "      <td>Female</td>\n",
       "      <td>Alabama</td>\n",
       "      <td>31</td>\n",
       "      <td>2/17/2019</td>\n",
       "      <td>3</td>\n",
       "      <td>married</td>\n",
       "      <td>40423</td>\n",
       "    </tr>\n",
       "  </tbody>\n",
       "</table>\n",
       "<p>5 rows × 34 columns</p>\n",
       "</div>"
      ],
      "text/plain": [
       "   order_id user_id  order_number  orders_day_of_week  hour_of_day_ordered  \\\n",
       "0   2539329       1             1                   2                    8   \n",
       "1   2398795       1             2                   3                    7   \n",
       "2    473747       1             3                   3                   12   \n",
       "3   2254736       1             4                   4                    7   \n",
       "4    431534       1             5                   4                   15   \n",
       "\n",
       "   days_since_prior_order  new_customer  product_id  add_to_cart_order  \\\n",
       "0                     NaN          True         196                  1   \n",
       "1                    15.0         False         196                  1   \n",
       "2                    21.0         False         196                  1   \n",
       "3                    29.0         False         196                  1   \n",
       "4                    28.0         False         196                  1   \n",
       "\n",
       "   reordered  ...         frequency_flag  first_name  surname  gender  \\\n",
       "0          0  ...  Non-frequent customer       Linda   Nguyen  Female   \n",
       "1          1  ...  Non-frequent customer       Linda   Nguyen  Female   \n",
       "2          1  ...  Non-frequent customer       Linda   Nguyen  Female   \n",
       "3          1  ...  Non-frequent customer       Linda   Nguyen  Female   \n",
       "4          1  ...  Non-frequent customer       Linda   Nguyen  Female   \n",
       "\n",
       "     state age date_joined #_of_dependants marital_status  income  \n",
       "0  Alabama  31   2/17/2019               3        married   40423  \n",
       "1  Alabama  31   2/17/2019               3        married   40423  \n",
       "2  Alabama  31   2/17/2019               3        married   40423  \n",
       "3  Alabama  31   2/17/2019               3        married   40423  \n",
       "4  Alabama  31   2/17/2019               3        married   40423  \n",
       "\n",
       "[5 rows x 34 columns]"
      ]
     },
     "execution_count": 6,
     "metadata": {},
     "output_type": "execute_result"
    }
   ],
   "source": [
    "df.head()"
   ]
  },
  {
   "cell_type": "code",
   "execution_count": 7,
   "id": "f803c0d7",
   "metadata": {},
   "outputs": [
    {
     "name": "stdout",
     "output_type": "stream",
     "text": [
      "<class 'pandas.core.frame.DataFrame'>\n",
      "Int64Index: 32404859 entries, 0 to 32404858\n",
      "Data columns (total 34 columns):\n",
      " #   Column                         Dtype   \n",
      "---  ------                         -----   \n",
      " 0   order_id                       int64   \n",
      " 1   user_id                        object  \n",
      " 2   order_number                   int64   \n",
      " 3   orders_day_of_week             int64   \n",
      " 4   hour_of_day_ordered            int64   \n",
      " 5   days_since_prior_order         float64 \n",
      " 6   new_customer                   bool    \n",
      " 7   product_id                     int64   \n",
      " 8   add_to_cart_order              int64   \n",
      " 9   reordered                      int64   \n",
      " 10  product_name                   object  \n",
      " 11  aisle_id                       int64   \n",
      " 12  department_id                  int64   \n",
      " 13  prices                         float64 \n",
      " 14  _merge                         category\n",
      " 15  price_range_loc                object  \n",
      " 16  busiest_day                    object  \n",
      " 17  busiest_days                   object  \n",
      " 18  busiest_period_of_day          object  \n",
      " 19  max_order                      int64   \n",
      " 20  loyalty_flag                   object  \n",
      " 21  mean_order_price               float64 \n",
      " 22  spending_flag                  object  \n",
      " 23  median_days_since_prior_order  float64 \n",
      " 24  frequency_flag                 object  \n",
      " 25  first_name                     object  \n",
      " 26  surname                        object  \n",
      " 27  gender                         object  \n",
      " 28  state                          object  \n",
      " 29  age                            int64   \n",
      " 30  date_joined                    object  \n",
      " 31  #_of_dependants                int64   \n",
      " 32  marital_status                 object  \n",
      " 33  income                         int64   \n",
      "dtypes: bool(1), category(1), float64(4), int64(13), object(15)\n",
      "memory usage: 8.0+ GB\n"
     ]
    }
   ],
   "source": [
    "df.info()"
   ]
  },
  {
   "cell_type": "markdown",
   "id": "5c009210",
   "metadata": {},
   "source": [
    "# 3. Security checks"
   ]
  },
  {
   "cell_type": "markdown",
   "id": "ad42d951",
   "metadata": {},
   "source": [
    "The only PII in this data set would be customer names. Because we have customer ID's we can remove the names in order to protect their privacy."
   ]
  },
  {
   "cell_type": "code",
   "execution_count": 8,
   "id": "c0771466",
   "metadata": {},
   "outputs": [],
   "source": [
    "#drop first and last name columns. _merge can also be dropped\n",
    "\n",
    "df2 = df.drop(columns=['first_name', 'surname', '_merge'])"
   ]
  },
  {
   "cell_type": "code",
   "execution_count": 9,
   "id": "55a1bbfb",
   "metadata": {},
   "outputs": [
    {
     "name": "stdout",
     "output_type": "stream",
     "text": [
      "<class 'pandas.core.frame.DataFrame'>\n",
      "Int64Index: 32404859 entries, 0 to 32404858\n",
      "Data columns (total 31 columns):\n",
      " #   Column                         Dtype  \n",
      "---  ------                         -----  \n",
      " 0   order_id                       int64  \n",
      " 1   user_id                        object \n",
      " 2   order_number                   int64  \n",
      " 3   orders_day_of_week             int64  \n",
      " 4   hour_of_day_ordered            int64  \n",
      " 5   days_since_prior_order         float64\n",
      " 6   new_customer                   bool   \n",
      " 7   product_id                     int64  \n",
      " 8   add_to_cart_order              int64  \n",
      " 9   reordered                      int64  \n",
      " 10  product_name                   object \n",
      " 11  aisle_id                       int64  \n",
      " 12  department_id                  int64  \n",
      " 13  prices                         float64\n",
      " 14  price_range_loc                object \n",
      " 15  busiest_day                    object \n",
      " 16  busiest_days                   object \n",
      " 17  busiest_period_of_day          object \n",
      " 18  max_order                      int64  \n",
      " 19  loyalty_flag                   object \n",
      " 20  mean_order_price               float64\n",
      " 21  spending_flag                  object \n",
      " 22  median_days_since_prior_order  float64\n",
      " 23  frequency_flag                 object \n",
      " 24  gender                         object \n",
      " 25  state                          object \n",
      " 26  age                            int64  \n",
      " 27  date_joined                    object \n",
      " 28  #_of_dependants                int64  \n",
      " 29  marital_status                 object \n",
      " 30  income                         int64  \n",
      "dtypes: bool(1), float64(4), int64(13), object(13)\n",
      "memory usage: 7.5+ GB\n"
     ]
    }
   ],
   "source": [
    "#confirm that the columns dropped successfully\n",
    "df2.info()"
   ]
  },
  {
   "cell_type": "markdown",
   "id": "91b17b91",
   "metadata": {},
   "source": [
    "# Create region flags"
   ]
  },
  {
   "cell_type": "code",
   "execution_count": 11,
   "id": "b88c5157",
   "metadata": {},
   "outputs": [],
   "source": [
    "#using Wikipedia source provided, establish regions based on states to start creating new region column\n",
    "\n",
    "Northeast = ['Maine', 'New Hampshire', 'Vermont', 'Massachusetts', 'Rhode Island', \n",
    "             'Connecticut', 'New York', 'Pennsylvania', 'New Jersey']\n",
    "\n",
    "Midwest = ['Wisconsin', 'Michigan', 'Illinois', 'Indiana', 'Ohio',\n",
    "          'North Dakota', 'South Dakota', 'Nebraska', 'Kansas',\n",
    "          'Minnesota', 'Iowa', 'Missouri']\n",
    "\n",
    "South = ['Delaware', 'Maryland', 'District of Columbia', 'Virginia', 'West Virginia',\n",
    "         'North Carolina', 'South Carolina', 'Georgia', 'Florida', 'Kentucky', 'Tennessee',\n",
    "         'Mississippi', 'Alabama', 'Oklahoma', 'Texas', 'Arkansas', 'Louisiana']\n",
    "\n",
    "West = ['Idaho', 'Montana', 'Wyoming', 'Nevada', 'Utah', 'Colorado', 'Arizona',\n",
    "        'New Mexico', 'Alaska', 'Washington', 'Oregon', 'California', 'Hawaii']"
   ]
  },
  {
   "cell_type": "code",
   "execution_count": 13,
   "id": "0249266d",
   "metadata": {},
   "outputs": [],
   "source": [
    "#use the .loc function to create new region column\n",
    "df2.loc[df2['state'].isin(Northeast), 'region'] = 'Northeast'"
   ]
  },
  {
   "cell_type": "code",
   "execution_count": 14,
   "id": "77b87ca7",
   "metadata": {},
   "outputs": [],
   "source": [
    "df2.loc[df2['state'].isin(Midwest), 'region'] = 'Midwest'"
   ]
  },
  {
   "cell_type": "code",
   "execution_count": 15,
   "id": "dc76f256",
   "metadata": {},
   "outputs": [],
   "source": [
    "df2.loc[df2['state'].isin(South), 'region'] = 'South'"
   ]
  },
  {
   "cell_type": "code",
   "execution_count": 16,
   "id": "5f3b2ec5",
   "metadata": {},
   "outputs": [],
   "source": [
    "df2.loc[df2['state'].isin(West), 'region'] = 'West'"
   ]
  },
  {
   "cell_type": "code",
   "execution_count": 17,
   "id": "4134fa21",
   "metadata": {},
   "outputs": [
    {
     "data": {
      "text/plain": [
       "South        10791885\n",
       "West          8292913\n",
       "Midwest       7597325\n",
       "Northeast     5722736\n",
       "Name: region, dtype: int64"
      ]
     },
     "execution_count": 17,
     "metadata": {},
     "output_type": "execute_result"
    }
   ],
   "source": [
    "#check value counts for each region\n",
    "\n",
    "df2['region'].value_counts(dropna=False)"
   ]
  },
  {
   "cell_type": "code",
   "execution_count": 18,
   "id": "fa7ca469",
   "metadata": {},
   "outputs": [
    {
     "data": {
      "text/plain": [
       "32404859"
      ]
     },
     "execution_count": 18,
     "metadata": {},
     "output_type": "execute_result"
    }
   ],
   "source": [
    "10791885+8292913+7597325+5722736"
   ]
  },
  {
   "cell_type": "markdown",
   "id": "77ed1bad",
   "metadata": {},
   "source": [
    "Confirmed that every record was assigned a region"
   ]
  },
  {
   "cell_type": "markdown",
   "id": "b826fa10",
   "metadata": {},
   "source": [
    "# Compare regional spending differences"
   ]
  },
  {
   "cell_type": "code",
   "execution_count": 19,
   "id": "bd87ba67",
   "metadata": {},
   "outputs": [],
   "source": [
    "# Use crosstab to see the frequency of low and high spending customers in each region\n",
    "\n",
    "cross = pd.crosstab(df2['region'], df2['spending_flag'], dropna=False).sort_index()"
   ]
  },
  {
   "cell_type": "code",
   "execution_count": 20,
   "id": "d8b2ebe0",
   "metadata": {},
   "outputs": [
    {
     "data": {
      "text/html": [
       "<div>\n",
       "<style scoped>\n",
       "    .dataframe tbody tr th:only-of-type {\n",
       "        vertical-align: middle;\n",
       "    }\n",
       "\n",
       "    .dataframe tbody tr th {\n",
       "        vertical-align: top;\n",
       "    }\n",
       "\n",
       "    .dataframe thead th {\n",
       "        text-align: right;\n",
       "    }\n",
       "</style>\n",
       "<table border=\"1\" class=\"dataframe\">\n",
       "  <thead>\n",
       "    <tr style=\"text-align: right;\">\n",
       "      <th>spending_flag</th>\n",
       "      <th>High spender</th>\n",
       "      <th>Low spender</th>\n",
       "    </tr>\n",
       "    <tr>\n",
       "      <th>region</th>\n",
       "      <th></th>\n",
       "      <th></th>\n",
       "    </tr>\n",
       "  </thead>\n",
       "  <tbody>\n",
       "    <tr>\n",
       "      <th>Midwest</th>\n",
       "      <td>155975</td>\n",
       "      <td>7441350</td>\n",
       "    </tr>\n",
       "    <tr>\n",
       "      <th>Northeast</th>\n",
       "      <td>108225</td>\n",
       "      <td>5614511</td>\n",
       "    </tr>\n",
       "    <tr>\n",
       "      <th>South</th>\n",
       "      <td>209691</td>\n",
       "      <td>10582194</td>\n",
       "    </tr>\n",
       "    <tr>\n",
       "      <th>West</th>\n",
       "      <td>160354</td>\n",
       "      <td>8132559</td>\n",
       "    </tr>\n",
       "  </tbody>\n",
       "</table>\n",
       "</div>"
      ],
      "text/plain": [
       "spending_flag  High spender  Low spender\n",
       "region                                  \n",
       "Midwest              155975      7441350\n",
       "Northeast            108225      5614511\n",
       "South                209691     10582194\n",
       "West                 160354      8132559"
      ]
     },
     "execution_count": 20,
     "metadata": {},
     "output_type": "execute_result"
    }
   ],
   "source": [
    "cross"
   ]
  },
  {
   "cell_type": "markdown",
   "id": "9ab73450",
   "metadata": {},
   "source": [
    "The South has the highest number of \"high spenders\" while the Northeast has the least amount"
   ]
  },
  {
   "cell_type": "code",
   "execution_count": 21,
   "id": "d8d921fa",
   "metadata": {},
   "outputs": [],
   "source": [
    "# Use crosstab to see the customer frequency per region\n",
    "\n",
    "cross2 = pd.crosstab(df2['region'], df2['frequency_flag'], dropna=False).sort_index()"
   ]
  },
  {
   "cell_type": "code",
   "execution_count": 22,
   "id": "a2938806",
   "metadata": {},
   "outputs": [
    {
     "data": {
      "text/html": [
       "<div>\n",
       "<style scoped>\n",
       "    .dataframe tbody tr th:only-of-type {\n",
       "        vertical-align: middle;\n",
       "    }\n",
       "\n",
       "    .dataframe tbody tr th {\n",
       "        vertical-align: top;\n",
       "    }\n",
       "\n",
       "    .dataframe thead th {\n",
       "        text-align: right;\n",
       "    }\n",
       "</style>\n",
       "<table border=\"1\" class=\"dataframe\">\n",
       "  <thead>\n",
       "    <tr style=\"text-align: right;\">\n",
       "      <th>frequency_flag</th>\n",
       "      <th>Frequent customer</th>\n",
       "      <th>Non-frequent customer</th>\n",
       "      <th>Regular customer</th>\n",
       "    </tr>\n",
       "    <tr>\n",
       "      <th>region</th>\n",
       "      <th></th>\n",
       "      <th></th>\n",
       "      <th></th>\n",
       "    </tr>\n",
       "  </thead>\n",
       "  <tbody>\n",
       "    <tr>\n",
       "      <th>Midwest</th>\n",
       "      <td>5017709</td>\n",
       "      <td>863419</td>\n",
       "      <td>1716197</td>\n",
       "    </tr>\n",
       "    <tr>\n",
       "      <th>Northeast</th>\n",
       "      <td>3804566</td>\n",
       "      <td>630182</td>\n",
       "      <td>1287988</td>\n",
       "    </tr>\n",
       "    <tr>\n",
       "      <th>South</th>\n",
       "      <td>7192372</td>\n",
       "      <td>1215088</td>\n",
       "      <td>2384420</td>\n",
       "    </tr>\n",
       "    <tr>\n",
       "      <th>West</th>\n",
       "      <td>5545206</td>\n",
       "      <td>927748</td>\n",
       "      <td>1819959</td>\n",
       "    </tr>\n",
       "  </tbody>\n",
       "</table>\n",
       "</div>"
      ],
      "text/plain": [
       "frequency_flag  Frequent customer  Non-frequent customer  Regular customer\n",
       "region                                                                    \n",
       "Midwest                   5017709                 863419           1716197\n",
       "Northeast                 3804566                 630182           1287988\n",
       "South                     7192372                1215088           2384420\n",
       "West                      5545206                 927748           1819959"
      ]
     },
     "execution_count": 22,
     "metadata": {},
     "output_type": "execute_result"
    }
   ],
   "source": [
    "cross2"
   ]
  },
  {
   "cell_type": "markdown",
   "id": "3d2a05c7",
   "metadata": {},
   "source": [
    "The South has the most frequent customers, and the Northeast has the lowest amount of frequent customers"
   ]
  },
  {
   "cell_type": "code",
   "execution_count": 23,
   "id": "fbc483ed",
   "metadata": {},
   "outputs": [
    {
     "data": {
      "text/html": [
       "<div>\n",
       "<style scoped>\n",
       "    .dataframe tbody tr th:only-of-type {\n",
       "        vertical-align: middle;\n",
       "    }\n",
       "\n",
       "    .dataframe tbody tr th {\n",
       "        vertical-align: top;\n",
       "    }\n",
       "\n",
       "    .dataframe thead th {\n",
       "        text-align: right;\n",
       "    }\n",
       "</style>\n",
       "<table border=\"1\" class=\"dataframe\">\n",
       "  <thead>\n",
       "    <tr style=\"text-align: right;\">\n",
       "      <th></th>\n",
       "      <th>state</th>\n",
       "    </tr>\n",
       "    <tr>\n",
       "      <th>region</th>\n",
       "      <th></th>\n",
       "    </tr>\n",
       "  </thead>\n",
       "  <tbody>\n",
       "    <tr>\n",
       "      <th>South</th>\n",
       "      <td>17</td>\n",
       "    </tr>\n",
       "    <tr>\n",
       "      <th>West</th>\n",
       "      <td>13</td>\n",
       "    </tr>\n",
       "    <tr>\n",
       "      <th>Midwest</th>\n",
       "      <td>12</td>\n",
       "    </tr>\n",
       "    <tr>\n",
       "      <th>Northeast</th>\n",
       "      <td>9</td>\n",
       "    </tr>\n",
       "  </tbody>\n",
       "</table>\n",
       "</div>"
      ],
      "text/plain": [
       "           state\n",
       "region          \n",
       "South         17\n",
       "West          13\n",
       "Midwest       12\n",
       "Northeast      9"
      ]
     },
     "execution_count": 23,
     "metadata": {},
     "output_type": "execute_result"
    }
   ],
   "source": [
    "#Look at which region has the most states allotted\n",
    "\n",
    "df2[['region', 'state']].groupby('region').agg({'state': pd.Series.nunique,}).sort_values(by='state', ascending=False)"
   ]
  },
  {
   "cell_type": "markdown",
   "id": "68664824",
   "metadata": {},
   "source": [
    "Important to note that the South has high frequency and high spending probably because it has the most states allotted to its region (almost double as many as Northeast)\n"
   ]
  },
  {
   "cell_type": "code",
   "execution_count": 25,
   "id": "b29fdb83",
   "metadata": {},
   "outputs": [
    {
     "data": {
      "text/html": [
       "<div>\n",
       "<style scoped>\n",
       "    .dataframe tbody tr th:only-of-type {\n",
       "        vertical-align: middle;\n",
       "    }\n",
       "\n",
       "    .dataframe tbody tr th {\n",
       "        vertical-align: top;\n",
       "    }\n",
       "\n",
       "    .dataframe thead th {\n",
       "        text-align: right;\n",
       "    }\n",
       "</style>\n",
       "<table border=\"1\" class=\"dataframe\">\n",
       "  <thead>\n",
       "    <tr style=\"text-align: right;\">\n",
       "      <th></th>\n",
       "      <th>user_id</th>\n",
       "    </tr>\n",
       "    <tr>\n",
       "      <th>region</th>\n",
       "      <th></th>\n",
       "    </tr>\n",
       "  </thead>\n",
       "  <tbody>\n",
       "    <tr>\n",
       "      <th>South</th>\n",
       "      <td>68737</td>\n",
       "    </tr>\n",
       "    <tr>\n",
       "      <th>West</th>\n",
       "      <td>52565</td>\n",
       "    </tr>\n",
       "    <tr>\n",
       "      <th>Midwest</th>\n",
       "      <td>48519</td>\n",
       "    </tr>\n",
       "    <tr>\n",
       "      <th>Northeast</th>\n",
       "      <td>36388</td>\n",
       "    </tr>\n",
       "  </tbody>\n",
       "</table>\n",
       "</div>"
      ],
      "text/plain": [
       "           user_id\n",
       "region            \n",
       "South        68737\n",
       "West         52565\n",
       "Midwest      48519\n",
       "Northeast    36388"
      ]
     },
     "execution_count": 25,
     "metadata": {},
     "output_type": "execute_result"
    }
   ],
   "source": [
    "# Consider region and user_id to see how many customers are in each region\n",
    "\n",
    "df2[['region', 'user_id']].groupby('region').agg({'user_id': pd.Series.nunique,}).sort_values(by='user_id',ascending=False)"
   ]
  },
  {
   "cell_type": "markdown",
   "id": "1116fe57",
   "metadata": {},
   "source": [
    "Important to note that the South has the most customers and Northeast has the least"
   ]
  },
  {
   "cell_type": "markdown",
   "id": "d018c2b9",
   "metadata": {},
   "source": [
    "# Create exclusion flag for low-activity customers"
   ]
  },
  {
   "cell_type": "markdown",
   "id": "71bcd1d4",
   "metadata": {},
   "source": [
    "Instacart CFO isn’t interested in customers who don’t generate much revenue for the app. Create an exclusion flag for low-activity customers (customers with less than 5 orders) and exclude them from the data. Make sure you export this sample."
   ]
  },
  {
   "cell_type": "code",
   "execution_count": 27,
   "id": "62e5ccce",
   "metadata": {},
   "outputs": [
    {
     "name": "stdout",
     "output_type": "stream",
     "text": [
      "<class 'pandas.core.frame.DataFrame'>\n",
      "Int64Index: 32404859 entries, 0 to 32404858\n",
      "Data columns (total 32 columns):\n",
      " #   Column                         Dtype  \n",
      "---  ------                         -----  \n",
      " 0   order_id                       int64  \n",
      " 1   user_id                        object \n",
      " 2   order_number                   int64  \n",
      " 3   orders_day_of_week             int64  \n",
      " 4   hour_of_day_ordered            int64  \n",
      " 5   days_since_prior_order         float64\n",
      " 6   new_customer                   bool   \n",
      " 7   product_id                     int64  \n",
      " 8   add_to_cart_order              int64  \n",
      " 9   reordered                      int64  \n",
      " 10  product_name                   object \n",
      " 11  aisle_id                       int64  \n",
      " 12  department_id                  int64  \n",
      " 13  prices                         float64\n",
      " 14  price_range_loc                object \n",
      " 15  busiest_day                    object \n",
      " 16  busiest_days                   object \n",
      " 17  busiest_period_of_day          object \n",
      " 18  max_order                      int64  \n",
      " 19  loyalty_flag                   object \n",
      " 20  mean_order_price               float64\n",
      " 21  spending_flag                  object \n",
      " 22  median_days_since_prior_order  float64\n",
      " 23  frequency_flag                 object \n",
      " 24  gender                         object \n",
      " 25  state                          object \n",
      " 26  age                            int64  \n",
      " 27  date_joined                    object \n",
      " 28  #_of_dependants                int64  \n",
      " 29  marital_status                 object \n",
      " 30  income                         int64  \n",
      " 31  region                         object \n",
      "dtypes: bool(1), float64(4), int64(13), object(14)\n",
      "memory usage: 7.8+ GB\n"
     ]
    }
   ],
   "source": [
    "df2.info()"
   ]
  },
  {
   "cell_type": "code",
   "execution_count": 28,
   "id": "89d4954d",
   "metadata": {},
   "outputs": [],
   "source": [
    "# Create variable for # of orders made by each user.\n",
    "# The count of user_id would be the number of orders that a user has made \n",
    "\n",
    "df2['total_orders']=df2.groupby(['user_id']).user_id.transform('count')"
   ]
  },
  {
   "cell_type": "code",
   "execution_count": 30,
   "id": "8a05f2c8",
   "metadata": {},
   "outputs": [],
   "source": [
    "# Create exclusion flag by counting the amount of times user_id shows up in dataframe\n",
    "\n",
    "results =[]\n",
    "for total in df2['total_orders']:\n",
    "    if total < 5:\n",
    "        results.append('Low Activity')\n",
    "    else:\n",
    "        results.append('Regular Activity')"
   ]
  },
  {
   "cell_type": "code",
   "execution_count": 31,
   "id": "0ff43285",
   "metadata": {},
   "outputs": [],
   "source": [
    "#add column to df2\n",
    "\n",
    "df2['activity_flag']=results"
   ]
  },
  {
   "cell_type": "code",
   "execution_count": 33,
   "id": "8e25e858",
   "metadata": {},
   "outputs": [
    {
     "data": {
      "text/plain": [
       "Regular Activity    32401975\n",
       "Low Activity            2884\n",
       "Name: activity_flag, dtype: int64"
      ]
     },
     "execution_count": 33,
     "metadata": {},
     "output_type": "execute_result"
    }
   ],
   "source": [
    "#check counts\n",
    "\n",
    "df2['activity_flag'].value_counts(dropna=False)"
   ]
  },
  {
   "cell_type": "code",
   "execution_count": 34,
   "id": "037bf1a8",
   "metadata": {},
   "outputs": [],
   "source": [
    "# Create subset of low activity customers\n",
    "\n",
    "low_activity_customers= df2[df2['activity_flag']=='Low Activity']"
   ]
  },
  {
   "cell_type": "code",
   "execution_count": 35,
   "id": "f888716b",
   "metadata": {},
   "outputs": [
    {
     "data": {
      "text/plain": [
       "(2884, 34)"
      ]
     },
     "execution_count": 35,
     "metadata": {},
     "output_type": "execute_result"
    }
   ],
   "source": [
    "low_activity_customers.shape"
   ]
  },
  {
   "cell_type": "code",
   "execution_count": 36,
   "id": "1098da17",
   "metadata": {},
   "outputs": [],
   "source": [
    "# Export low activity subset\n",
    "\n",
    "low_activity_customers.to_csv(os.path.join(path, '02 Data','Prepared Data', 'low_activity_customers.csv'))"
   ]
  },
  {
   "cell_type": "code",
   "execution_count": 37,
   "id": "09336403",
   "metadata": {},
   "outputs": [],
   "source": [
    "# Drop low activity customer records from df2\n",
    "df2.drop(df2[df2['activity_flag']=='Low Activity'].index, inplace=True)"
   ]
  },
  {
   "cell_type": "code",
   "execution_count": 38,
   "id": "e8b4d72d",
   "metadata": {},
   "outputs": [
    {
     "data": {
      "text/plain": [
       "Regular Activity    32401975\n",
       "Name: activity_flag, dtype: int64"
      ]
     },
     "execution_count": 38,
     "metadata": {},
     "output_type": "execute_result"
    }
   ],
   "source": [
    "# Double check counts \n",
    "df2['activity_flag'].value_counts()"
   ]
  },
  {
   "cell_type": "code",
   "execution_count": 39,
   "id": "7445df2a",
   "metadata": {},
   "outputs": [
    {
     "data": {
      "text/html": [
       "<div>\n",
       "<style scoped>\n",
       "    .dataframe tbody tr th:only-of-type {\n",
       "        vertical-align: middle;\n",
       "    }\n",
       "\n",
       "    .dataframe tbody tr th {\n",
       "        vertical-align: top;\n",
       "    }\n",
       "\n",
       "    .dataframe thead th {\n",
       "        text-align: right;\n",
       "    }\n",
       "</style>\n",
       "<table border=\"1\" class=\"dataframe\">\n",
       "  <thead>\n",
       "    <tr style=\"text-align: right;\">\n",
       "      <th></th>\n",
       "      <th>order_id</th>\n",
       "      <th>user_id</th>\n",
       "      <th>order_number</th>\n",
       "      <th>orders_day_of_week</th>\n",
       "      <th>hour_of_day_ordered</th>\n",
       "      <th>days_since_prior_order</th>\n",
       "      <th>new_customer</th>\n",
       "      <th>product_id</th>\n",
       "      <th>add_to_cart_order</th>\n",
       "      <th>reordered</th>\n",
       "      <th>...</th>\n",
       "      <th>gender</th>\n",
       "      <th>state</th>\n",
       "      <th>age</th>\n",
       "      <th>date_joined</th>\n",
       "      <th>#_of_dependants</th>\n",
       "      <th>marital_status</th>\n",
       "      <th>income</th>\n",
       "      <th>region</th>\n",
       "      <th>total_orders</th>\n",
       "      <th>activity_flag</th>\n",
       "    </tr>\n",
       "  </thead>\n",
       "  <tbody>\n",
       "    <tr>\n",
       "      <th>0</th>\n",
       "      <td>2539329</td>\n",
       "      <td>1</td>\n",
       "      <td>1</td>\n",
       "      <td>2</td>\n",
       "      <td>8</td>\n",
       "      <td>NaN</td>\n",
       "      <td>True</td>\n",
       "      <td>196</td>\n",
       "      <td>1</td>\n",
       "      <td>0</td>\n",
       "      <td>...</td>\n",
       "      <td>Female</td>\n",
       "      <td>Alabama</td>\n",
       "      <td>31</td>\n",
       "      <td>2/17/2019</td>\n",
       "      <td>3</td>\n",
       "      <td>married</td>\n",
       "      <td>40423</td>\n",
       "      <td>South</td>\n",
       "      <td>59</td>\n",
       "      <td>Regular Activity</td>\n",
       "    </tr>\n",
       "    <tr>\n",
       "      <th>1</th>\n",
       "      <td>2398795</td>\n",
       "      <td>1</td>\n",
       "      <td>2</td>\n",
       "      <td>3</td>\n",
       "      <td>7</td>\n",
       "      <td>15.0</td>\n",
       "      <td>False</td>\n",
       "      <td>196</td>\n",
       "      <td>1</td>\n",
       "      <td>1</td>\n",
       "      <td>...</td>\n",
       "      <td>Female</td>\n",
       "      <td>Alabama</td>\n",
       "      <td>31</td>\n",
       "      <td>2/17/2019</td>\n",
       "      <td>3</td>\n",
       "      <td>married</td>\n",
       "      <td>40423</td>\n",
       "      <td>South</td>\n",
       "      <td>59</td>\n",
       "      <td>Regular Activity</td>\n",
       "    </tr>\n",
       "    <tr>\n",
       "      <th>2</th>\n",
       "      <td>473747</td>\n",
       "      <td>1</td>\n",
       "      <td>3</td>\n",
       "      <td>3</td>\n",
       "      <td>12</td>\n",
       "      <td>21.0</td>\n",
       "      <td>False</td>\n",
       "      <td>196</td>\n",
       "      <td>1</td>\n",
       "      <td>1</td>\n",
       "      <td>...</td>\n",
       "      <td>Female</td>\n",
       "      <td>Alabama</td>\n",
       "      <td>31</td>\n",
       "      <td>2/17/2019</td>\n",
       "      <td>3</td>\n",
       "      <td>married</td>\n",
       "      <td>40423</td>\n",
       "      <td>South</td>\n",
       "      <td>59</td>\n",
       "      <td>Regular Activity</td>\n",
       "    </tr>\n",
       "    <tr>\n",
       "      <th>3</th>\n",
       "      <td>2254736</td>\n",
       "      <td>1</td>\n",
       "      <td>4</td>\n",
       "      <td>4</td>\n",
       "      <td>7</td>\n",
       "      <td>29.0</td>\n",
       "      <td>False</td>\n",
       "      <td>196</td>\n",
       "      <td>1</td>\n",
       "      <td>1</td>\n",
       "      <td>...</td>\n",
       "      <td>Female</td>\n",
       "      <td>Alabama</td>\n",
       "      <td>31</td>\n",
       "      <td>2/17/2019</td>\n",
       "      <td>3</td>\n",
       "      <td>married</td>\n",
       "      <td>40423</td>\n",
       "      <td>South</td>\n",
       "      <td>59</td>\n",
       "      <td>Regular Activity</td>\n",
       "    </tr>\n",
       "    <tr>\n",
       "      <th>4</th>\n",
       "      <td>431534</td>\n",
       "      <td>1</td>\n",
       "      <td>5</td>\n",
       "      <td>4</td>\n",
       "      <td>15</td>\n",
       "      <td>28.0</td>\n",
       "      <td>False</td>\n",
       "      <td>196</td>\n",
       "      <td>1</td>\n",
       "      <td>1</td>\n",
       "      <td>...</td>\n",
       "      <td>Female</td>\n",
       "      <td>Alabama</td>\n",
       "      <td>31</td>\n",
       "      <td>2/17/2019</td>\n",
       "      <td>3</td>\n",
       "      <td>married</td>\n",
       "      <td>40423</td>\n",
       "      <td>South</td>\n",
       "      <td>59</td>\n",
       "      <td>Regular Activity</td>\n",
       "    </tr>\n",
       "    <tr>\n",
       "      <th>5</th>\n",
       "      <td>3367565</td>\n",
       "      <td>1</td>\n",
       "      <td>6</td>\n",
       "      <td>2</td>\n",
       "      <td>7</td>\n",
       "      <td>19.0</td>\n",
       "      <td>False</td>\n",
       "      <td>196</td>\n",
       "      <td>1</td>\n",
       "      <td>1</td>\n",
       "      <td>...</td>\n",
       "      <td>Female</td>\n",
       "      <td>Alabama</td>\n",
       "      <td>31</td>\n",
       "      <td>2/17/2019</td>\n",
       "      <td>3</td>\n",
       "      <td>married</td>\n",
       "      <td>40423</td>\n",
       "      <td>South</td>\n",
       "      <td>59</td>\n",
       "      <td>Regular Activity</td>\n",
       "    </tr>\n",
       "    <tr>\n",
       "      <th>6</th>\n",
       "      <td>550135</td>\n",
       "      <td>1</td>\n",
       "      <td>7</td>\n",
       "      <td>1</td>\n",
       "      <td>9</td>\n",
       "      <td>20.0</td>\n",
       "      <td>False</td>\n",
       "      <td>196</td>\n",
       "      <td>1</td>\n",
       "      <td>1</td>\n",
       "      <td>...</td>\n",
       "      <td>Female</td>\n",
       "      <td>Alabama</td>\n",
       "      <td>31</td>\n",
       "      <td>2/17/2019</td>\n",
       "      <td>3</td>\n",
       "      <td>married</td>\n",
       "      <td>40423</td>\n",
       "      <td>South</td>\n",
       "      <td>59</td>\n",
       "      <td>Regular Activity</td>\n",
       "    </tr>\n",
       "    <tr>\n",
       "      <th>7</th>\n",
       "      <td>3108588</td>\n",
       "      <td>1</td>\n",
       "      <td>8</td>\n",
       "      <td>1</td>\n",
       "      <td>14</td>\n",
       "      <td>14.0</td>\n",
       "      <td>False</td>\n",
       "      <td>196</td>\n",
       "      <td>2</td>\n",
       "      <td>1</td>\n",
       "      <td>...</td>\n",
       "      <td>Female</td>\n",
       "      <td>Alabama</td>\n",
       "      <td>31</td>\n",
       "      <td>2/17/2019</td>\n",
       "      <td>3</td>\n",
       "      <td>married</td>\n",
       "      <td>40423</td>\n",
       "      <td>South</td>\n",
       "      <td>59</td>\n",
       "      <td>Regular Activity</td>\n",
       "    </tr>\n",
       "    <tr>\n",
       "      <th>8</th>\n",
       "      <td>2295261</td>\n",
       "      <td>1</td>\n",
       "      <td>9</td>\n",
       "      <td>1</td>\n",
       "      <td>16</td>\n",
       "      <td>0.0</td>\n",
       "      <td>False</td>\n",
       "      <td>196</td>\n",
       "      <td>4</td>\n",
       "      <td>1</td>\n",
       "      <td>...</td>\n",
       "      <td>Female</td>\n",
       "      <td>Alabama</td>\n",
       "      <td>31</td>\n",
       "      <td>2/17/2019</td>\n",
       "      <td>3</td>\n",
       "      <td>married</td>\n",
       "      <td>40423</td>\n",
       "      <td>South</td>\n",
       "      <td>59</td>\n",
       "      <td>Regular Activity</td>\n",
       "    </tr>\n",
       "    <tr>\n",
       "      <th>9</th>\n",
       "      <td>2550362</td>\n",
       "      <td>1</td>\n",
       "      <td>10</td>\n",
       "      <td>4</td>\n",
       "      <td>8</td>\n",
       "      <td>30.0</td>\n",
       "      <td>False</td>\n",
       "      <td>196</td>\n",
       "      <td>1</td>\n",
       "      <td>1</td>\n",
       "      <td>...</td>\n",
       "      <td>Female</td>\n",
       "      <td>Alabama</td>\n",
       "      <td>31</td>\n",
       "      <td>2/17/2019</td>\n",
       "      <td>3</td>\n",
       "      <td>married</td>\n",
       "      <td>40423</td>\n",
       "      <td>South</td>\n",
       "      <td>59</td>\n",
       "      <td>Regular Activity</td>\n",
       "    </tr>\n",
       "  </tbody>\n",
       "</table>\n",
       "<p>10 rows × 34 columns</p>\n",
       "</div>"
      ],
      "text/plain": [
       "   order_id user_id  order_number  orders_day_of_week  hour_of_day_ordered  \\\n",
       "0   2539329       1             1                   2                    8   \n",
       "1   2398795       1             2                   3                    7   \n",
       "2    473747       1             3                   3                   12   \n",
       "3   2254736       1             4                   4                    7   \n",
       "4    431534       1             5                   4                   15   \n",
       "5   3367565       1             6                   2                    7   \n",
       "6    550135       1             7                   1                    9   \n",
       "7   3108588       1             8                   1                   14   \n",
       "8   2295261       1             9                   1                   16   \n",
       "9   2550362       1            10                   4                    8   \n",
       "\n",
       "   days_since_prior_order  new_customer  product_id  add_to_cart_order  \\\n",
       "0                     NaN          True         196                  1   \n",
       "1                    15.0         False         196                  1   \n",
       "2                    21.0         False         196                  1   \n",
       "3                    29.0         False         196                  1   \n",
       "4                    28.0         False         196                  1   \n",
       "5                    19.0         False         196                  1   \n",
       "6                    20.0         False         196                  1   \n",
       "7                    14.0         False         196                  2   \n",
       "8                     0.0         False         196                  4   \n",
       "9                    30.0         False         196                  1   \n",
       "\n",
       "   reordered  ...  gender    state  age  date_joined #_of_dependants  \\\n",
       "0          0  ...  Female  Alabama   31    2/17/2019               3   \n",
       "1          1  ...  Female  Alabama   31    2/17/2019               3   \n",
       "2          1  ...  Female  Alabama   31    2/17/2019               3   \n",
       "3          1  ...  Female  Alabama   31    2/17/2019               3   \n",
       "4          1  ...  Female  Alabama   31    2/17/2019               3   \n",
       "5          1  ...  Female  Alabama   31    2/17/2019               3   \n",
       "6          1  ...  Female  Alabama   31    2/17/2019               3   \n",
       "7          1  ...  Female  Alabama   31    2/17/2019               3   \n",
       "8          1  ...  Female  Alabama   31    2/17/2019               3   \n",
       "9          1  ...  Female  Alabama   31    2/17/2019               3   \n",
       "\n",
       "  marital_status income region  total_orders     activity_flag  \n",
       "0        married  40423  South            59  Regular Activity  \n",
       "1        married  40423  South            59  Regular Activity  \n",
       "2        married  40423  South            59  Regular Activity  \n",
       "3        married  40423  South            59  Regular Activity  \n",
       "4        married  40423  South            59  Regular Activity  \n",
       "5        married  40423  South            59  Regular Activity  \n",
       "6        married  40423  South            59  Regular Activity  \n",
       "7        married  40423  South            59  Regular Activity  \n",
       "8        married  40423  South            59  Regular Activity  \n",
       "9        married  40423  South            59  Regular Activity  \n",
       "\n",
       "[10 rows x 34 columns]"
      ]
     },
     "execution_count": 39,
     "metadata": {},
     "output_type": "execute_result"
    }
   ],
   "source": [
    "df2.head(10)"
   ]
  },
  {
   "cell_type": "code",
   "execution_count": 40,
   "id": "0d36dc17",
   "metadata": {},
   "outputs": [
    {
     "data": {
      "text/plain": [
       "(32401975, 34)"
      ]
     },
     "execution_count": 40,
     "metadata": {},
     "output_type": "execute_result"
    }
   ],
   "source": [
    "df2.shape"
   ]
  },
  {
   "cell_type": "code",
   "execution_count": 43,
   "id": "4a767db7",
   "metadata": {},
   "outputs": [],
   "source": [
    "# Export new dataframe that only includes regular activity customers for the Instacart CFO\n",
    "\n",
    "df2.to_pickle(os.path.join(path, '02 Data','Prepared Data', 'regular_activity_customers.pkl'))"
   ]
  },
  {
   "cell_type": "code",
   "execution_count": null,
   "id": "2248881c",
   "metadata": {},
   "outputs": [],
   "source": []
  }
 ],
 "metadata": {
  "kernelspec": {
   "display_name": "Python 3 (ipykernel)",
   "language": "python",
   "name": "python3"
  },
  "language_info": {
   "codemirror_mode": {
    "name": "ipython",
    "version": 3
   },
   "file_extension": ".py",
   "mimetype": "text/x-python",
   "name": "python",
   "nbconvert_exporter": "python",
   "pygments_lexer": "ipython3",
   "version": "3.9.12"
  }
 },
 "nbformat": 4,
 "nbformat_minor": 5
}
