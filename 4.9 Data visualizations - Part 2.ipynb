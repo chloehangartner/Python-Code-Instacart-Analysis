{
 "cells": [
  {
   "cell_type": "markdown",
   "id": "88fb3cfa",
   "metadata": {},
   "source": [
    "# Import Libraries and Data"
   ]
  },
  {
   "cell_type": "code",
   "execution_count": 1,
   "id": "050d71ef",
   "metadata": {},
   "outputs": [],
   "source": [
    "import pandas as pd\n",
    "import numpy as np\n",
    "import os\n",
    "import matplotlib.pyplot as plt\n",
    "import seaborn as sns\n",
    "import scipy"
   ]
  },
  {
   "cell_type": "code",
   "execution_count": 2,
   "id": "d6feb452",
   "metadata": {},
   "outputs": [],
   "source": [
    "#Python shortcut for importing files, create string & assign to variable \n",
    "path = r'/Users/Chloe/Documents/2. CareerFoundry/2. Data Immersion pt 1/Achievement 4/07-2022 Instacart Basket Analysis'"
   ]
  },
  {
   "cell_type": "code",
   "execution_count": 3,
   "id": "3b3b1092",
   "metadata": {},
   "outputs": [
    {
     "data": {
      "text/plain": [
       "'/Users/Chloe/Documents/2. CareerFoundry/2. Data Immersion pt 1/Achievement 4/07-2022 Instacart Basket Analysis'"
      ]
     },
     "execution_count": 3,
     "metadata": {},
     "output_type": "execute_result"
    }
   ],
   "source": [
    "path"
   ]
  },
  {
   "cell_type": "code",
   "execution_count": 4,
   "id": "b929b846",
   "metadata": {},
   "outputs": [],
   "source": [
    "# Import final data set from part 1\n",
    "df = pd.read_pickle(os.path.join(path, '02 Data', 'Prepared Data', 'final_instacart_data.pkl'))"
   ]
  },
  {
   "cell_type": "code",
   "execution_count": 5,
   "id": "1171748d",
   "metadata": {},
   "outputs": [
    {
     "data": {
      "text/html": [
       "<div>\n",
       "<style scoped>\n",
       "    .dataframe tbody tr th:only-of-type {\n",
       "        vertical-align: middle;\n",
       "    }\n",
       "\n",
       "    .dataframe tbody tr th {\n",
       "        vertical-align: top;\n",
       "    }\n",
       "\n",
       "    .dataframe thead th {\n",
       "        text-align: right;\n",
       "    }\n",
       "</style>\n",
       "<table border=\"1\" class=\"dataframe\">\n",
       "  <thead>\n",
       "    <tr style=\"text-align: right;\">\n",
       "      <th></th>\n",
       "      <th>order_id</th>\n",
       "      <th>user_id</th>\n",
       "      <th>order_number</th>\n",
       "      <th>orders_day_of_week</th>\n",
       "      <th>hour_of_day_ordered</th>\n",
       "      <th>days_since_prior_order</th>\n",
       "      <th>new_customer</th>\n",
       "      <th>product_id</th>\n",
       "      <th>add_to_cart_order</th>\n",
       "      <th>reordered</th>\n",
       "      <th>...</th>\n",
       "      <th>frequency_flag</th>\n",
       "      <th>first_name</th>\n",
       "      <th>surname</th>\n",
       "      <th>gender</th>\n",
       "      <th>state</th>\n",
       "      <th>age</th>\n",
       "      <th>date_joined</th>\n",
       "      <th>#_of_dependants</th>\n",
       "      <th>marital_status</th>\n",
       "      <th>income</th>\n",
       "    </tr>\n",
       "  </thead>\n",
       "  <tbody>\n",
       "    <tr>\n",
       "      <th>0</th>\n",
       "      <td>2539329</td>\n",
       "      <td>1</td>\n",
       "      <td>1</td>\n",
       "      <td>2</td>\n",
       "      <td>8</td>\n",
       "      <td>NaN</td>\n",
       "      <td>True</td>\n",
       "      <td>196</td>\n",
       "      <td>1</td>\n",
       "      <td>0</td>\n",
       "      <td>...</td>\n",
       "      <td>Non-frequent customer</td>\n",
       "      <td>Linda</td>\n",
       "      <td>Nguyen</td>\n",
       "      <td>Female</td>\n",
       "      <td>Alabama</td>\n",
       "      <td>31</td>\n",
       "      <td>2/17/2019</td>\n",
       "      <td>3</td>\n",
       "      <td>married</td>\n",
       "      <td>40423</td>\n",
       "    </tr>\n",
       "    <tr>\n",
       "      <th>1</th>\n",
       "      <td>2398795</td>\n",
       "      <td>1</td>\n",
       "      <td>2</td>\n",
       "      <td>3</td>\n",
       "      <td>7</td>\n",
       "      <td>15.0</td>\n",
       "      <td>False</td>\n",
       "      <td>196</td>\n",
       "      <td>1</td>\n",
       "      <td>1</td>\n",
       "      <td>...</td>\n",
       "      <td>Non-frequent customer</td>\n",
       "      <td>Linda</td>\n",
       "      <td>Nguyen</td>\n",
       "      <td>Female</td>\n",
       "      <td>Alabama</td>\n",
       "      <td>31</td>\n",
       "      <td>2/17/2019</td>\n",
       "      <td>3</td>\n",
       "      <td>married</td>\n",
       "      <td>40423</td>\n",
       "    </tr>\n",
       "    <tr>\n",
       "      <th>2</th>\n",
       "      <td>473747</td>\n",
       "      <td>1</td>\n",
       "      <td>3</td>\n",
       "      <td>3</td>\n",
       "      <td>12</td>\n",
       "      <td>21.0</td>\n",
       "      <td>False</td>\n",
       "      <td>196</td>\n",
       "      <td>1</td>\n",
       "      <td>1</td>\n",
       "      <td>...</td>\n",
       "      <td>Non-frequent customer</td>\n",
       "      <td>Linda</td>\n",
       "      <td>Nguyen</td>\n",
       "      <td>Female</td>\n",
       "      <td>Alabama</td>\n",
       "      <td>31</td>\n",
       "      <td>2/17/2019</td>\n",
       "      <td>3</td>\n",
       "      <td>married</td>\n",
       "      <td>40423</td>\n",
       "    </tr>\n",
       "    <tr>\n",
       "      <th>3</th>\n",
       "      <td>2254736</td>\n",
       "      <td>1</td>\n",
       "      <td>4</td>\n",
       "      <td>4</td>\n",
       "      <td>7</td>\n",
       "      <td>29.0</td>\n",
       "      <td>False</td>\n",
       "      <td>196</td>\n",
       "      <td>1</td>\n",
       "      <td>1</td>\n",
       "      <td>...</td>\n",
       "      <td>Non-frequent customer</td>\n",
       "      <td>Linda</td>\n",
       "      <td>Nguyen</td>\n",
       "      <td>Female</td>\n",
       "      <td>Alabama</td>\n",
       "      <td>31</td>\n",
       "      <td>2/17/2019</td>\n",
       "      <td>3</td>\n",
       "      <td>married</td>\n",
       "      <td>40423</td>\n",
       "    </tr>\n",
       "    <tr>\n",
       "      <th>4</th>\n",
       "      <td>431534</td>\n",
       "      <td>1</td>\n",
       "      <td>5</td>\n",
       "      <td>4</td>\n",
       "      <td>15</td>\n",
       "      <td>28.0</td>\n",
       "      <td>False</td>\n",
       "      <td>196</td>\n",
       "      <td>1</td>\n",
       "      <td>1</td>\n",
       "      <td>...</td>\n",
       "      <td>Non-frequent customer</td>\n",
       "      <td>Linda</td>\n",
       "      <td>Nguyen</td>\n",
       "      <td>Female</td>\n",
       "      <td>Alabama</td>\n",
       "      <td>31</td>\n",
       "      <td>2/17/2019</td>\n",
       "      <td>3</td>\n",
       "      <td>married</td>\n",
       "      <td>40423</td>\n",
       "    </tr>\n",
       "  </tbody>\n",
       "</table>\n",
       "<p>5 rows × 34 columns</p>\n",
       "</div>"
      ],
      "text/plain": [
       "   order_id user_id  order_number  orders_day_of_week  hour_of_day_ordered  \\\n",
       "0   2539329       1             1                   2                    8   \n",
       "1   2398795       1             2                   3                    7   \n",
       "2    473747       1             3                   3                   12   \n",
       "3   2254736       1             4                   4                    7   \n",
       "4    431534       1             5                   4                   15   \n",
       "\n",
       "   days_since_prior_order  new_customer  product_id  add_to_cart_order  \\\n",
       "0                     NaN          True         196                  1   \n",
       "1                    15.0         False         196                  1   \n",
       "2                    21.0         False         196                  1   \n",
       "3                    29.0         False         196                  1   \n",
       "4                    28.0         False         196                  1   \n",
       "\n",
       "   reordered  ...         frequency_flag  first_name  surname  gender  \\\n",
       "0          0  ...  Non-frequent customer       Linda   Nguyen  Female   \n",
       "1          1  ...  Non-frequent customer       Linda   Nguyen  Female   \n",
       "2          1  ...  Non-frequent customer       Linda   Nguyen  Female   \n",
       "3          1  ...  Non-frequent customer       Linda   Nguyen  Female   \n",
       "4          1  ...  Non-frequent customer       Linda   Nguyen  Female   \n",
       "\n",
       "     state age date_joined #_of_dependants marital_status  income  \n",
       "0  Alabama  31   2/17/2019               3        married   40423  \n",
       "1  Alabama  31   2/17/2019               3        married   40423  \n",
       "2  Alabama  31   2/17/2019               3        married   40423  \n",
       "3  Alabama  31   2/17/2019               3        married   40423  \n",
       "4  Alabama  31   2/17/2019               3        married   40423  \n",
       "\n",
       "[5 rows x 34 columns]"
      ]
     },
     "execution_count": 5,
     "metadata": {},
     "output_type": "execute_result"
    }
   ],
   "source": [
    "df.head()"
   ]
  },
  {
   "cell_type": "code",
   "execution_count": 6,
   "id": "6b7dca56",
   "metadata": {},
   "outputs": [
    {
     "data": {
      "text/plain": [
       "(32404859, 34)"
      ]
     },
     "execution_count": 6,
     "metadata": {},
     "output_type": "execute_result"
    }
   ],
   "source": [
    "df.shape"
   ]
  },
  {
   "cell_type": "markdown",
   "id": "ecd35f3d",
   "metadata": {},
   "source": [
    "# Analysis"
   ]
  },
  {
   "cell_type": "code",
   "execution_count": 7,
   "id": "33a7c697",
   "metadata": {},
   "outputs": [
    {
     "data": {
      "image/png": "[encoded data removed]",
      "text/plain": [
       "<Figure size 432x288 with 1 Axes>"
      ]
     },
     "metadata": {
      "needs_background": "light"
     },
     "output_type": "display_data"
    }
   ],
   "source": [
    "# Create a histogram for hour_of_day_ordered\n",
    "\n",
    "hist_orders = df['hour_of_day_ordered'].plot.hist(bins = 70, color = 'blue')"
   ]
  },
  {
   "cell_type": "markdown",
   "id": "b30487da",
   "metadata": {},
   "source": [
    "As you can see in the histogram above, the most popular time of day to order items would be between 10am and 3pm, especially between 10-11am"
   ]
  },
  {
   "cell_type": "code",
   "execution_count": 8,
   "id": "6f65f4b8",
   "metadata": {},
   "outputs": [
    {
     "data": {
      "image/png": "[encoded data removed]",
      "text/plain": [
       "<Figure size 432x288 with 1 Axes>"
      ]
     },
     "metadata": {
      "needs_background": "light"
     },
     "output_type": "display_data"
    }
   ],
   "source": [
    "# Create a bar chart for loyalty_flag column\n",
    "bar_loyalty = df['loyalty_flag'].value_counts().plot.bar(color = 'blue')"
   ]
  },
  {
   "cell_type": "markdown",
   "id": "99f1a426",
   "metadata": {},
   "source": [
    "The largest category of customers is the \"Regular customer\" who by criteria has placed between 10-40 orders"
   ]
  },
  {
   "cell_type": "code",
   "execution_count": 9,
   "id": "a70ad2bf",
   "metadata": {},
   "outputs": [],
   "source": [
    "#Check whether there’s a difference in expenditure (the “prices” column) depending on the hour of the day. \n",
    "#(Hint: To check this, you need to use an accurate sample for your line chart!)"
   ]
  },
  {
   "cell_type": "code",
   "execution_count": 10,
   "id": "55daf387",
   "metadata": {},
   "outputs": [],
   "source": [
    "np.random.seed(4)\n",
    "dev = np.random.rand(len(df)) <= 0.7"
   ]
  },
  {
   "cell_type": "code",
   "execution_count": 11,
   "id": "2c7987e7",
   "metadata": {},
   "outputs": [
    {
     "data": {
      "text/plain": [
       "array([False,  True, False, ...,  True,  True,  True])"
      ]
     },
     "execution_count": 11,
     "metadata": {},
     "output_type": "execute_result"
    }
   ],
   "source": [
    "dev"
   ]
  },
  {
   "cell_type": "code",
   "execution_count": null,
   "id": "9a691319",
   "metadata": {},
   "outputs": [],
   "source": [
    "#store 70% of the sample in df big\n",
    "big = df[dev]"
   ]
  },
  {
   "cell_type": "code",
   "execution_count": null,
   "id": "0ec57802",
   "metadata": {},
   "outputs": [],
   "source": [
    "#store 30% of the sample in df small\n",
    "small = df[~dev]"
   ]
  },
  {
   "cell_type": "code",
   "execution_count": null,
   "id": "3cd45aa6",
   "metadata": {},
   "outputs": [],
   "source": [
    "len(df)"
   ]
  },
  {
   "cell_type": "code",
   "execution_count": null,
   "id": "1b5a6cca",
   "metadata": {},
   "outputs": [],
   "source": [
    "#check length is correct\n",
    "len(big) + len(small)"
   ]
  },
  {
   "cell_type": "code",
   "execution_count": null,
   "id": "bae0b903",
   "metadata": {},
   "outputs": [],
   "source": [
    "# Creating new data frame with only columns needed for the line chart\n",
    "df_small = small[['hour_of_day_ordered','prices']]"
   ]
  },
  {
   "cell_type": "code",
   "execution_count": null,
   "id": "80c03fde",
   "metadata": {},
   "outputs": [],
   "source": [
    "df_small"
   ]
  },
  {
   "cell_type": "code",
   "execution_count": null,
   "id": "8f32345b",
   "metadata": {},
   "outputs": [],
   "source": [
    "# Create line chart of 30% of df sample\n",
    "line2 = sns.lineplot(data = df_small, x = 'hour_of_day_ordered',y = 'prices')"
   ]
  },
  {
   "cell_type": "markdown",
   "id": "18f3a79c",
   "metadata": {},
   "source": [
    "According to the line plot, the highest priced orders tend to be bought earlier in the morning before 6am. \n",
    "There seems to be a decline throughout the rest of the day for high-priced orders except for a slight increase \n",
    "around 5pm"
   ]
  },
  {
   "cell_type": "code",
   "execution_count": null,
   "id": "f4edc255",
   "metadata": {},
   "outputs": [],
   "source": [
    "#Conduct some exploratory analysis of customer demographics to inform the targeted marketing campaigns. \n",
    "#First, determine whether there’s a connection between age and family situation by creating \n",
    "#a line chart exploring the connections between age and number of dependents"
   ]
  },
  {
   "cell_type": "code",
   "execution_count": null,
   "id": "813e16f3",
   "metadata": {},
   "outputs": [],
   "source": [
    "#Create new data frame with only the columns needed for the line chart\n",
    "df_small2 = small[['age','#_of_dependants']]"
   ]
  },
  {
   "cell_type": "code",
   "execution_count": null,
   "id": "8625be10",
   "metadata": {},
   "outputs": [],
   "source": [
    "df_small2"
   ]
  },
  {
   "cell_type": "code",
   "execution_count": null,
   "id": "8ad07a4e",
   "metadata": {},
   "outputs": [],
   "source": [
    "line3 = sns.lineplot(data = df_small2, x = 'age', y = '#_of_dependants')"
   ]
  },
  {
   "cell_type": "markdown",
   "id": "84c8d694",
   "metadata": {},
   "source": [
    "There is no clear trend or relationship between age and # of dependants"
   ]
  },
  {
   "cell_type": "code",
   "execution_count": null,
   "id": "5fddc668",
   "metadata": {},
   "outputs": [],
   "source": [
    "#Explore connection between age and spending power (income)\n",
    "scatter_age_income = sns.scatterplot(x = 'age', y = 'income', data = df)"
   ]
  },
  {
   "cell_type": "markdown",
   "id": "c0b0d3e0",
   "metadata": {},
   "source": [
    "Observations about the scatter plot:\n",
    "1. Between the 20-40 year old age group, the typical income is roughly up through 200k\n",
    "2. After 40+ years old, the average income rises to 200k-300k\n",
    "3. The group of Instacart buyers with highest spending power is in the 40+ range (rising up to 600k income)\n",
    "4. There are some customers in both the 20-40 age group and 40+ age group who have higher spending power than the average person in their age group"
   ]
  },
  {
   "cell_type": "markdown",
   "id": "a652eede",
   "metadata": {},
   "source": [
    "# Export visualizations"
   ]
  },
  {
   "cell_type": "code",
   "execution_count": null,
   "id": "e712dcdd",
   "metadata": {},
   "outputs": [],
   "source": [
    "hist_orders.figure.savefig(os.path.join(path, '04 Analysis','Visualizations', 'hist_orders.png'))"
   ]
  },
  {
   "cell_type": "code",
   "execution_count": null,
   "id": "beedb51c",
   "metadata": {},
   "outputs": [],
   "source": [
    "bar_loyalty.figure.savefig(os.path.join(path, '04 Analysis','Visualizations', 'bar_loyalty.png'))"
   ]
  },
  {
   "cell_type": "code",
   "execution_count": null,
   "id": "85118dad",
   "metadata": {},
   "outputs": [],
   "source": [
    "line3.figure.savefig(os.path.join(path, '04 Analysis','Visualizations', 'line_age_dependants.png'))"
   ]
  },
  {
   "cell_type": "code",
   "execution_count": null,
   "id": "bcac4d4b",
   "metadata": {},
   "outputs": [],
   "source": [
    "scatter_age_income.figure.savefig(os.path.join(path, '04 Analysis','Visualizations', 'scatter_age_income.png'))"
   ]
  },
  {
   "cell_type": "markdown",
   "id": "742c32ad",
   "metadata": {},
   "source": [
    "Note: the first 3 visualizations were already created/exported during exercise 4.9"
   ]
  },
  {
   "cell_type": "code",
   "execution_count": null,
   "id": "3e4de245",
   "metadata": {},
   "outputs": [],
   "source": []
  }
 ],
 "metadata": {
  "kernelspec": {
   "display_name": "Python 3 (ipykernel)",
   "language": "python",
   "name": "python3"
  },
  "language_info": {
   "codemirror_mode": {
    "name": "ipython",
    "version": 3
   },
   "file_extension": ".py",
   "mimetype": "text/x-python",
   "name": "python",
   "nbconvert_exporter": "python",
   "pygments_lexer": "ipython3",
   "version": "3.9.12"
  }
 },
 "nbformat": 4,
 "nbformat_minor": 5
}
