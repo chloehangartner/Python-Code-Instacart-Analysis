{
 "cells": [
  {
   "cell_type": "code",
   "execution_count": 1,
   "id": "22de3f1f",
   "metadata": {},
   "outputs": [],
   "source": [
    "#Import libraries\n",
    "import pandas as pd\n",
    "import numpy as np\n",
    "import os"
   ]
  },
  {
   "cell_type": "code",
   "execution_count": 2,
   "id": "00918fac",
   "metadata": {},
   "outputs": [],
   "source": [
    "#Working with Python data types\n",
    "x = 49"
   ]
  },
  {
   "cell_type": "code",
   "execution_count": 3,
   "id": "e41223b7",
   "metadata": {},
   "outputs": [],
   "source": [
    "y = 51"
   ]
  },
  {
   "cell_type": "code",
   "execution_count": 4,
   "id": "5518e373",
   "metadata": {},
   "outputs": [
    {
     "data": {
      "text/plain": [
       "100"
      ]
     },
     "execution_count": 4,
     "metadata": {},
     "output_type": "execute_result"
    }
   ],
   "source": [
    "x + y"
   ]
  },
  {
   "cell_type": "code",
   "execution_count": 5,
   "id": "e5be07c7",
   "metadata": {},
   "outputs": [],
   "source": [
    "a = 101"
   ]
  },
  {
   "cell_type": "code",
   "execution_count": 6,
   "id": "03d7de76",
   "metadata": {},
   "outputs": [],
   "source": [
    "b = 1"
   ]
  },
  {
   "cell_type": "code",
   "execution_count": 7,
   "id": "4de1de52",
   "metadata": {},
   "outputs": [
    {
     "data": {
      "text/plain": [
       "100"
      ]
     },
     "execution_count": 7,
     "metadata": {},
     "output_type": "execute_result"
    }
   ],
   "source": [
    "a - b"
   ]
  },
  {
   "cell_type": "code",
   "execution_count": 8,
   "id": "9e7ebd94",
   "metadata": {},
   "outputs": [
    {
     "data": {
      "text/plain": [
       "100"
      ]
     },
     "execution_count": 8,
     "metadata": {},
     "output_type": "execute_result"
    }
   ],
   "source": [
    "105 - 5"
   ]
  },
  {
   "cell_type": "code",
   "execution_count": 9,
   "id": "4ad4dd71",
   "metadata": {},
   "outputs": [],
   "source": [
    "c = 1.42"
   ]
  },
  {
   "cell_type": "code",
   "execution_count": 10,
   "id": "5f39d567",
   "metadata": {},
   "outputs": [],
   "source": [
    "d = 4.77"
   ]
  },
  {
   "cell_type": "code",
   "execution_count": 11,
   "id": "c7df3ba3",
   "metadata": {},
   "outputs": [
    {
     "data": {
      "text/plain": [
       "3.3591549295774645"
      ]
     },
     "execution_count": 11,
     "metadata": {},
     "output_type": "execute_result"
    }
   ],
   "source": [
    "d / c"
   ]
  },
  {
   "cell_type": "code",
   "execution_count": 13,
   "id": "2c4a5b19",
   "metadata": {},
   "outputs": [],
   "source": [
    "j = 'Ch'"
   ]
  },
  {
   "cell_type": "code",
   "execution_count": 14,
   "id": "efffd1ad",
   "metadata": {},
   "outputs": [],
   "source": [
    "k = 'loe'"
   ]
  },
  {
   "cell_type": "code",
   "execution_count": 15,
   "id": "f148f447",
   "metadata": {},
   "outputs": [
    {
     "data": {
      "text/plain": [
       "'Chloe'"
      ]
     },
     "execution_count": 15,
     "metadata": {},
     "output_type": "execute_result"
    }
   ],
   "source": [
    "j+k"
   ]
  },
  {
   "cell_type": "code",
   "execution_count": 23,
   "id": "31f2af09",
   "metadata": {},
   "outputs": [],
   "source": [
    "l = 'The dog ran.'"
   ]
  },
  {
   "cell_type": "code",
   "execution_count": 24,
   "id": "558228fa",
   "metadata": {},
   "outputs": [],
   "source": [
    "z = ' The dog is named Joe.'"
   ]
  },
  {
   "cell_type": "code",
   "execution_count": 26,
   "id": "9b8f068a",
   "metadata": {},
   "outputs": [
    {
     "data": {
      "text/plain": [
       "'The dog ran. The dog is named Joe.'"
      ]
     },
     "execution_count": 26,
     "metadata": {},
     "output_type": "execute_result"
    }
   ],
   "source": [
    "l+z"
   ]
  },
  {
   "cell_type": "code",
   "execution_count": 28,
   "id": "7b26f585",
   "metadata": {},
   "outputs": [],
   "source": [
    "w = 'Hey'"
   ]
  },
  {
   "cell_type": "code",
   "execution_count": 29,
   "id": "abbc8fcc",
   "metadata": {},
   "outputs": [
    {
     "data": {
      "text/plain": [
       "'HeyHeyHeyHeyHeyHeyHeyHeyHeyHeyHeyHeyHeyHeyHeyHeyHeyHeyHeyHeyHeyHeyHeyHeyHeyHeyHeyHeyHeyHeyHeyHeyHeyHeyHeyHeyHeyHeyHeyHeyHeyHeyHeyHeyHeyHeyHeyHeyHeyHeyHeyHeyHeyHeyHeyHeyHeyHeyHeyHeyHeyHeyHeyHeyHeyHeyHeyHeyHeyHeyHeyHeyHeyHeyHeyHeyHeyHeyHeyHeyHeyHeyHeyHeyHeyHeyHeyHeyHeyHeyHeyHeyHeyHeyHeyHeyHeyHeyHeyHey'"
      ]
     },
     "execution_count": 29,
     "metadata": {},
     "output_type": "execute_result"
    }
   ],
   "source": [
    "w * 100"
   ]
  }
 ],
 "metadata": {
  "kernelspec": {
   "display_name": "Python 3 (ipykernel)",
   "language": "python",
   "name": "python3"
  },
  "language_info": {
   "codemirror_mode": {
    "name": "ipython",
    "version": 3
   },
   "file_extension": ".py",
   "mimetype": "text/x-python",
   "name": "python",
   "nbconvert_exporter": "python",
   "pygments_lexer": "ipython3",
   "version": "3.9.12"
  }
 },
 "nbformat": 4,
 "nbformat_minor": 5
}
